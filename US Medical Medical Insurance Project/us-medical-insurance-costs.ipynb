{
 "cells": [
  {
   "cell_type": "markdown",
   "metadata": {},
   "source": [
    "# U.S. Medical Insurance Costs"
   ]
  },
  {
   "cell_type": "markdown",
   "metadata": {
    "vscode": {
     "languageId": "plaintext"
    }
   },
   "source": [
    "## Data Exploration\n",
    "\n",
    "1. What is the range of ages in the dataset? What is the average age?"
   ]
  },
  {
   "cell_type": "code",
   "execution_count": 176,
   "metadata": {},
   "outputs": [
    {
     "name": "stdout",
     "output_type": "stream",
     "text": [
      "Range of Ages: 46\n",
      "Average Age: 39.21\n"
     ]
    }
   ],
   "source": [
    "import csv\n",
    "\n",
    "ages = []\n",
    "\n",
    "with open('insurance.csv', 'r') as insurance_csv:\n",
    "    csv_reader = csv.reader(insurance_csv)\n",
    "    header = next(csv_reader)\n",
    "    \n",
    "    for row in csv_reader:\n",
    "        ages.append(int(row[0]))\n",
    "\n",
    "age_range = max(ages) - min(ages)\n",
    "average_age = sum(ages) / len(ages)\n",
    "\n",
    "print(f\"Range of Ages: {age_range}\")\n",
    "print(f\"Average Age: {average_age:.2f}\")"
   ]
  },
  {
   "cell_type": "markdown",
   "metadata": {},
   "source": [
    "2. How many males and females are in the dataset?"
   ]
  },
  {
   "cell_type": "code",
   "execution_count": 177,
   "metadata": {},
   "outputs": [
    {
     "name": "stdout",
     "output_type": "stream",
     "text": [
      "Number of Males: 676\n",
      "Number of Females: 662\n"
     ]
    }
   ],
   "source": [
    "import csv\n",
    "\n",
    "sexes = []\n",
    "\n",
    "with open('insurance.csv', 'r') as insurance_csv:\n",
    "    csv_reader = csv.reader(insurance_csv)\n",
    "    header = next(csv_reader)\n",
    "    \n",
    "    for row in csv_reader:\n",
    "        sexes.append(row[1])\n",
    "\n",
    "male_count = sexes.count(\"male\")\n",
    "female_count = sexes.count(\"female\")\n",
    "\n",
    "print(f\"Number of Males: {male_count}\")\n",
    "print(f\"Number of Females: {female_count}\")"
   ]
  },
  {
   "cell_type": "markdown",
   "metadata": {},
   "source": [
    "3. What is the distribution of BMI values? What is the highest and lowest BMI? What is the average BMI?"
   ]
  },
  {
   "cell_type": "code",
   "execution_count": 178,
   "metadata": {},
   "outputs": [
    {
     "name": "stdout",
     "output_type": "stream",
     "text": [
      "Number of Different BMI Values: 548\n",
      "Lowest BMI: 15.96\n",
      "Highest BMI: 53.13\n",
      "Average BMI: 30.66\n"
     ]
    }
   ],
   "source": [
    "import csv\n",
    "\n",
    "bmis = []\n",
    "\n",
    "with open('insurance.csv', 'r') as insurance_csv:\n",
    "    csv_reader = csv.reader(insurance_csv)\n",
    "    header = next(csv_reader)\n",
    "    \n",
    "    for row in csv_reader:\n",
    "        bmis.append(float(row[2]))\n",
    "\n",
    "# Calculate the number of different BMI values\n",
    "unique_bmis = set(bmis)\n",
    "num_unique_bmis = len(unique_bmis)\n",
    "\n",
    "# Find the lowest and highest BMI\n",
    "lowest_bmi = min(bmis)\n",
    "highest_bmi = max(bmis)\n",
    "\n",
    "# Calculate the average BMI\n",
    "average_bmi = sum(bmis) / len(bmis)\n",
    "\n",
    "print(f\"Number of Different BMI Values: {num_unique_bmis}\")\n",
    "print(f\"Lowest BMI: {lowest_bmi:.2f}\")\n",
    "print(f\"Highest BMI: {highest_bmi:.2f}\")\n",
    "print(f\"Average BMI: {average_bmi:.2f}\")"
   ]
  },
  {
   "cell_type": "markdown",
   "metadata": {},
   "source": [
    "4. How many individuals have different numbers of children? What's the most common number of children?"
   ]
  },
  {
   "cell_type": "code",
   "execution_count": 179,
   "metadata": {},
   "outputs": [
    {
     "name": "stdout",
     "output_type": "stream",
     "text": [
      "Number of Individuals with Different Numbers of Children:\n",
      "0 children: 574 individuals\n",
      "1 children: 324 individuals\n",
      "3 children: 157 individuals\n",
      "2 children: 240 individuals\n",
      "5 children: 18 individuals\n",
      "4 children: 25 individuals\n",
      "Most Common Number of Children: 0\n"
     ]
    }
   ],
   "source": [
    "import csv\n",
    "\n",
    "children = []\n",
    "\n",
    "with open('insurance.csv', 'r') as insurance_csv:\n",
    "    csv_reader = csv.reader(insurance_csv)\n",
    "    header = next(csv_reader)\n",
    "    \n",
    "    for row in csv_reader:\n",
    "        children.append(int(row[3]))\n",
    "\n",
    "child_count = {}\n",
    "\n",
    "for child in children:\n",
    "    if child in child_count:\n",
    "        child_count[child] += 1\n",
    "    else:\n",
    "        child_count[child] = 1\n",
    "\n",
    "most_common_children = max(child_count, key=child_count.get)\n",
    "\n",
    "print(\"Number of Individuals with Different Numbers of Children:\")\n",
    "for num_children, count in child_count.items():\n",
    "    print(f\"{num_children} children: {count} individuals\")\n",
    "\n",
    "print(f\"Most Common Number of Children: {most_common_children}\")"
   ]
  },
  {
   "cell_type": "markdown",
   "metadata": {},
   "source": [
    "## Smoking Analysis\n",
    "\n",
    "1. What percentage of individuals are smokers?"
   ]
  },
  {
   "cell_type": "code",
   "execution_count": 180,
   "metadata": {},
   "outputs": [
    {
     "name": "stdout",
     "output_type": "stream",
     "text": [
      "Percentage of Individuals Who Are Smokers: 20.48%\n"
     ]
    }
   ],
   "source": [
    "import csv\n",
    "\n",
    "smokers = []\n",
    "\n",
    "with open('insurance.csv', 'r') as insurance_csv:\n",
    "    csv_reader = csv.reader(insurance_csv)\n",
    "    header = next(csv_reader)\n",
    "    \n",
    "    for row in csv_reader:\n",
    "        smokers.append(row[4])\n",
    "\n",
    "total_individuals = len(smokers)\n",
    "smoker_count = smokers.count(\"yes\")\n",
    "percentage_smokers = (smoker_count / total_individuals) * 100\n",
    "\n",
    "print(f\"Percentage of Individuals Who Are Smokers: {percentage_smokers:.2f}%\")"
   ]
  },
  {
   "cell_type": "markdown",
   "metadata": {},
   "source": [
    "2. Are there any differences in charges between smokers and non-smokers?"
   ]
  },
  {
   "cell_type": "code",
   "execution_count": 181,
   "metadata": {},
   "outputs": [
    {
     "name": "stdout",
     "output_type": "stream",
     "text": [
      "Average Charges for Smokers: 32050.23\n",
      "Average Charges for Non-Smokers: 8434.27\n"
     ]
    }
   ],
   "source": [
    "import csv\n",
    "\n",
    "smokers = []\n",
    "charges = []\n",
    "\n",
    "with open('insurance.csv', 'r') as insurance_csv:\n",
    "    csv_reader = csv.reader(insurance_csv)\n",
    "    header = next(csv_reader)\n",
    "    \n",
    "    for row in csv_reader:\n",
    "        smokers.append(row[4])\n",
    "        charges.append(float(row[6]))\n",
    "\n",
    "smoker_charges = [charge for smoke, charge in zip(smokers, charges) if smoke == \"yes\"]\n",
    "non_smoker_charges = [charge for smoke, charge in zip(smokers, charges) if smoke == \"no\"]\n",
    "\n",
    "average_smoker_charges = sum(smoker_charges) / len(smoker_charges)\n",
    "average_non_smoker_charges = sum(non_smoker_charges) / len(non_smoker_charges)\n",
    "\n",
    "print(f\"Average Charges for Smokers: {average_smoker_charges:.2f}\")\n",
    "print(f\"Average Charges for Non-Smokers: {average_non_smoker_charges:.2f}\")"
   ]
  },
  {
   "cell_type": "markdown",
   "metadata": {},
   "source": [
    "## Regional Analysis\n",
    "\n",
    "1. How many individuals are from each region?"
   ]
  },
  {
   "cell_type": "code",
   "execution_count": 182,
   "metadata": {},
   "outputs": [
    {
     "name": "stdout",
     "output_type": "stream",
     "text": [
      "Number of Individuals from Each Region:\n",
      "southwest: 325 individuals\n",
      "southeast: 364 individuals\n",
      "northwest: 325 individuals\n",
      "northeast: 324 individuals\n"
     ]
    }
   ],
   "source": [
    "import csv\n",
    "\n",
    "regions = []\n",
    "\n",
    "with open('insurance.csv', 'r') as insurance_csv:\n",
    "    csv_reader = csv.reader(insurance_csv)\n",
    "    header = next(csv_reader)\n",
    "    \n",
    "    for row in csv_reader:\n",
    "        regions.append(row[5])\n",
    "\n",
    "region_count = {}\n",
    "\n",
    "for region in regions:\n",
    "    if region in region_count:\n",
    "        region_count[region] += 1\n",
    "    else:\n",
    "        region_count[region] = 1\n",
    "\n",
    "print(\"Number of Individuals from Each Region:\")\n",
    "for region, count in region_count.items():\n",
    "    print(f\"{region}: {count} individuals\")"
   ]
  },
  {
   "cell_type": "markdown",
   "metadata": {},
   "source": [
    "2. Is there any variation in charges based on the region?"
   ]
  },
  {
   "cell_type": "code",
   "execution_count": 183,
   "metadata": {},
   "outputs": [
    {
     "name": "stdout",
     "output_type": "stream",
     "text": [
      "Average Charges Based on Region:\n",
      "southwest: 12346.94\n",
      "southeast: 14735.41\n",
      "northwest: 12417.58\n",
      "northeast: 13406.38\n"
     ]
    }
   ],
   "source": [
    "import csv\n",
    "\n",
    "regions = []\n",
    "charges = []\n",
    "\n",
    "with open('insurance.csv', 'r') as insurance_csv:\n",
    "    csv_reader = csv.reader(insurance_csv)\n",
    "    header = next(csv_reader)\n",
    "    \n",
    "    for row in csv_reader:\n",
    "        regions.append(row[5])\n",
    "        charges.append(float(row[6]))\n",
    "\n",
    "region_charges = {}\n",
    "\n",
    "for region, charge in zip(regions, charges):\n",
    "    if region in region_charges:\n",
    "        region_charges[region].append(charge)\n",
    "    else:\n",
    "        region_charges[region] = [charge]\n",
    "\n",
    "print(\"Average Charges Based on Region:\")\n",
    "for region, charge_list in region_charges.items():\n",
    "    average_charge = sum(charge_list) / len(charge_list)\n",
    "    print(f\"{region}: {average_charge:.2f}\")"
   ]
  },
  {
   "cell_type": "markdown",
   "metadata": {},
   "source": [
    "## Relationship Between Features\n",
    "\n",
    "1. Is there a relationship between age and charges?"
   ]
  },
  {
   "cell_type": "code",
   "execution_count": 184,
   "metadata": {},
   "outputs": [
    {
     "name": "stdout",
     "output_type": "stream",
     "text": [
      "Correlation Coefficient between Age and Charges: 0.2990\n"
     ]
    }
   ],
   "source": [
    "import csv\n",
    "\n",
    "ages = []\n",
    "charges = []\n",
    "\n",
    "with open('insurance.csv', 'r') as insurance_csv:\n",
    "    csv_reader = csv.reader(insurance_csv)\n",
    "    header = next(csv_reader)\n",
    "    \n",
    "    for row in csv_reader:\n",
    "        ages.append(int(row[0]))\n",
    "        charges.append(float(row[6]))\n",
    "\n",
    "n = len(ages)\n",
    "mean_age = sum(ages) / n\n",
    "mean_charges = sum(charges) / n\n",
    "\n",
    "numerator = sum((age - mean_age) * (charge - mean_charges) for age, charge in zip(ages, charges))\n",
    "denominator_age = sum((age - mean_age)**2 for age in ages)\n",
    "denominator_charges = sum((charge - mean_charges)**2 for charge in charges)\n",
    "\n",
    "correlation_coefficient = numerator / (denominator_age**0.5 * denominator_charges**0.5)\n",
    "\n",
    "print(f\"Correlation Coefficient between Age and Charges: {correlation_coefficient:.4f}\")"
   ]
  },
  {
   "cell_type": "markdown",
   "metadata": {},
   "source": [
    "2. Is there a difference in charges based on sex?"
   ]
  },
  {
   "cell_type": "code",
   "execution_count": 185,
   "metadata": {},
   "outputs": [
    {
     "name": "stdout",
     "output_type": "stream",
     "text": [
      "Average Charges for Males: 13956.75\n",
      "Average Charges for Females: 12569.58\n"
     ]
    }
   ],
   "source": [
    "import csv\n",
    "\n",
    "sexes = []\n",
    "charges = []\n",
    "\n",
    "with open('insurance.csv', 'r') as insurance_csv:\n",
    "    csv_reader = csv.reader(insurance_csv)\n",
    "    header = next(csv_reader)\n",
    "    \n",
    "    for row in csv_reader:\n",
    "        sexes.append(row[1])\n",
    "        charges.append(float(row[6]))\n",
    "\n",
    "def calculate_average_charges(group):\n",
    "    total_charges = 0\n",
    "    count = 0\n",
    "    for sex, charge in zip(sexes, charges):\n",
    "        if sex == group:\n",
    "            total_charges += charge\n",
    "            count += 1\n",
    "    return total_charges / count if count > 0 else 0\n",
    "\n",
    "average_charges_male = calculate_average_charges(\"male\")\n",
    "average_charges_female = calculate_average_charges(\"female\")\n",
    "\n",
    "print(f\"Average Charges for Males: {average_charges_male:.2f}\")\n",
    "print(f\"Average Charges for Females: {average_charges_female:.2f}\")"
   ]
  },
  {
   "cell_type": "markdown",
   "metadata": {},
   "source": [
    "3. How does the amount of children an individual have affect cost of insurance?"
   ]
  },
  {
   "cell_type": "code",
   "execution_count": 186,
   "metadata": {},
   "outputs": [
    {
     "name": "stdout",
     "output_type": "stream",
     "text": [
      "Average Charges for Individuals with 0 Children: 12365.98\n",
      "Average Charges for Individuals with 1 Child: 12731.17\n",
      "Average Charges for Individuals with 2 Children: 15073.56\n",
      "Average Charges for Individuals with 3 Children: 15355.32\n",
      "Average Charges for Individuals with 4 Children: 13850.66\n"
     ]
    }
   ],
   "source": [
    "import csv\n",
    "\n",
    "children = []\n",
    "charges = []\n",
    "\n",
    "with open('insurance.csv', 'r') as insurance_csv:\n",
    "    csv_reader = csv.reader(insurance_csv)\n",
    "    header = next(csv_reader)\n",
    "    \n",
    "    for row in csv_reader:\n",
    "        children.append(int(row[3]))\n",
    "        charges.append(float(row[6]))\n",
    "\n",
    "def calculate_average_charges(group):\n",
    "    total_charges = 0\n",
    "    count = 0\n",
    "    for num_children, charge in zip(children, charges):\n",
    "        if num_children == group:\n",
    "            total_charges += charge\n",
    "            count += 1\n",
    "    return total_charges / count if count > 0 else 0\n",
    "\n",
    "average_charges_with_children_0 = calculate_average_charges(0)\n",
    "average_charges_with_children_1 = calculate_average_charges(1)\n",
    "average_charges_with_children_2 = calculate_average_charges(2)\n",
    "average_charges_with_children_3 = calculate_average_charges(3)\n",
    "average_charges_with_children_4 = calculate_average_charges(4)\n",
    "\n",
    "print(f\"Average Charges for Individuals with 0 Children: {average_charges_with_children_0:.2f}\")\n",
    "print(f\"Average Charges for Individuals with 1 Child: {average_charges_with_children_1:.2f}\")\n",
    "print(f\"Average Charges for Individuals with 2 Children: {average_charges_with_children_2:.2f}\")\n",
    "print(f\"Average Charges for Individuals with 3 Children: {average_charges_with_children_3:.2f}\")\n",
    "print(f\"Average Charges for Individuals with 4 Children: {average_charges_with_children_4:.2f}\")"
   ]
  },
  {
   "cell_type": "markdown",
   "metadata": {},
   "source": [
    "4. Is there a difference in the number of individuals with and without children between smokers and non-smokers?\""
   ]
  },
  {
   "cell_type": "code",
   "execution_count": 187,
   "metadata": {},
   "outputs": [
    {
     "name": "stdout",
     "output_type": "stream",
     "text": [
      "Number of Smokers with Children: 159\n",
      "Number of Smokers without Children: 115\n",
      "Number of Non-Smokers with Children: 605\n",
      "Number of Non-Smokers without Children: 459\n"
     ]
    }
   ],
   "source": [
    "import csv\n",
    "\n",
    "smokers = []\n",
    "children = []\n",
    "\n",
    "with open('insurance.csv', 'r') as insurance_csv:\n",
    "    csv_reader = csv.reader(insurance_csv)\n",
    "    header = next(csv_reader)\n",
    "    \n",
    "    for row in csv_reader:\n",
    "        smokers.append(row[4])\n",
    "        children.append(int(row[3]))\n",
    "\n",
    "smokers_with_children = sum(1 for smoke, num_children in zip(smokers, children) if smoke == \"yes\" and num_children > 0)\n",
    "smokers_no_children = sum(1 for smoke, num_children in zip(smokers, children) if smoke == \"yes\" and num_children == 0)\n",
    "non_smokers_with_children = sum(1 for smoke, num_children in zip(smokers, children) if smoke == \"no\" and num_children > 0)\n",
    "non_smokers_no_children = sum(1 for smoke, num_children in zip(smokers, children) if smoke == \"no\" and num_children == 0)\n",
    "\n",
    "print(f\"Number of Smokers with Children: {smokers_with_children}\")\n",
    "print(f\"Number of Smokers without Children: {smokers_no_children}\")\n",
    "print(f\"Number of Non-Smokers with Children: {non_smokers_with_children}\")\n",
    "print(f\"Number of Non-Smokers without Children: {non_smokers_no_children}\")"
   ]
  },
  {
   "cell_type": "markdown",
   "metadata": {},
   "source": [
    "## Statistical Analysis\n",
    "\n",
    "1. Calculate the mean, median, and standard deviation of insurance charges."
   ]
  },
  {
   "cell_type": "code",
   "execution_count": 188,
   "metadata": {},
   "outputs": [
    {
     "name": "stdout",
     "output_type": "stream",
     "text": [
      "Mean (Average) Charge: 13270.42\n",
      "Median Charge: 9382.03\n",
      "Standard Deviation of Charges: 12105.48\n"
     ]
    }
   ],
   "source": [
    "import csv\n",
    "import math\n",
    "\n",
    "charges = []\n",
    "\n",
    "with open('insurance.csv', 'r') as insurance_csv:\n",
    "    csv_reader = csv.reader(insurance_csv)\n",
    "    header = next(csv_reader)\n",
    "    \n",
    "    for row in csv_reader:\n",
    "        charges.append(float(row[6]))\n",
    "\n",
    "# Calculate mean (average) charge\n",
    "mean_charge = sum(charges) / len(charges)\n",
    "\n",
    "# Calculate median charge\n",
    "sorted_charges = sorted(charges)\n",
    "num_charges = len(charges)\n",
    "median_index = num_charges // 2\n",
    "\n",
    "if num_charges % 2 == 0:\n",
    "    median_charge = (sorted_charges[median_index - 1] + sorted_charges[median_index]) / 2\n",
    "else:\n",
    "    median_charge = sorted_charges[median_index]\n",
    "\n",
    "# Calculate standard deviation of charges\n",
    "sum_squared_diff = sum((charge - mean_charge) ** 2 for charge in charges)\n",
    "std_deviation = math.sqrt(sum_squared_diff / len(charges))\n",
    "\n",
    "print(f\"Mean (Average) Charge: {mean_charge:.2f}\")\n",
    "print(f\"Median Charge: {median_charge:.2f}\")\n",
    "print(f\"Standard Deviation of Charges: {std_deviation:.2f}\")"
   ]
  },
  {
   "cell_type": "markdown",
   "metadata": {},
   "source": [
    "2. Are charges significantly different between smokers and non-smokers? You could perform a t-test for this."
   ]
  },
  {
   "cell_type": "code",
   "execution_count": 189,
   "metadata": {},
   "outputs": [
    {
     "name": "stdout",
     "output_type": "stream",
     "text": [
      "Result: There is a significant difference in charges between smokers and non-smokers.\n",
      "T-Statistic: 14.7611\n",
      "Critical T-Value: 1.96\n"
     ]
    }
   ],
   "source": [
    "import csv\n",
    "import math\n",
    "\n",
    "smoker_charges = []\n",
    "non_smoker_charges = []\n",
    "\n",
    "with open('insurance.csv', 'r') as insurance_csv:\n",
    "    csv_reader = csv.reader(insurance_csv)\n",
    "    header = next(csv_reader)\n",
    "    \n",
    "    for row in csv_reader:\n",
    "        if row[4] == \"yes\":\n",
    "            smoker_charges.append(float(row[6]))\n",
    "        else:\n",
    "            non_smoker_charges.append(float(row[6]))\n",
    "\n",
    "# Calculate mean charges for smokers and non-smokers\n",
    "mean_smoker_charges = sum(smoker_charges) / len(smoker_charges)\n",
    "mean_non_smoker_charges = sum(non_smoker_charges) / len(non_smoker_charges)\n",
    "\n",
    "# Calculate pooled standard deviation\n",
    "n_smoker = len(smoker_charges)\n",
    "n_non_smoker = len(non_smoker_charges)\n",
    "pooled_std_dev = math.sqrt(((n_smoker - 1) * (math.pow(mean_smoker_charges - mean_non_smoker_charges, 2)) + (n_non_smoker - 1) * (math.pow(mean_non_smoker_charges - mean_smoker_charges, 2))) / (n_smoker + n_non_smoker - 2))\n",
    "\n",
    "# Calculate t-statistic\n",
    "t_statistic = (mean_smoker_charges - mean_non_smoker_charges) / (pooled_std_dev * math.sqrt((1 / n_smoker) + (1 / n_non_smoker)))\n",
    "\n",
    "# Calculate degrees of freedom\n",
    "degrees_of_freedom = n_smoker + n_non_smoker - 2\n",
    "\n",
    "# Calculate critical t-value at desired significance level (e.g., 0.05)\n",
    "critical_t_value = 1.96  # For a two-tailed test at 95% confidence level\n",
    "\n",
    "if abs(t_statistic) > critical_t_value:\n",
    "    print(\"Result: There is a significant difference in charges between smokers and non-smokers.\")\n",
    "else:\n",
    "    print(\"Result: There is no significant difference in charges between smokers and non-smokers.\")\n",
    "\n",
    "print(f\"T-Statistic: {t_statistic:.4f}\")\n",
    "print(f\"Critical T-Value: {critical_t_value}\")"
   ]
  },
  {
   "cell_type": "markdown",
   "metadata": {},
   "source": [
    "## Potential Business Insights\n",
    "\n",
    "1. How might these insights be used by insurance companies to set premiums?\n",
    "\n",
    "The insights from the analysis help insurance companies set fair premiums. They can adjust prices based on factors like age, gender, health, family size, and smoking habits. For example, older or smoking individuals might pay more due to potential higher healthcare costs. By using these insights, insurers create customized plans that match individual needs, making insurance more accurate and beneficial for everyone.\n",
    "\n",
    "2. What factors (age, smoking, BMI, etc.) seem to contribute most to higher insurance charges?\n",
    "\n",
    "Certain factors contribute significantly to higher insurance charges. Smoking stands out, as smokers have higher costs than non-smokers. Age also matters, with older people facing higher charges due to more healthcare needs. Family size plays a role; more children mean higher charges. Another factor is weight, where higher values are linked to increased charges, likely due to health risks. These insights help insurance companies adjust premiums based on these factors to ensure fairness and accuracy."
   ]
  },
  {
   "cell_type": "markdown",
   "metadata": {},
   "source": [
    "## Summary\n",
    "\n",
    "The exploration of insurance charges uncovers key insights into what drives costs. Smoking plays a significant role, leading to notably higher charges for smokers compared to non-smokers. This underlines the importance of factoring in smoking habits when deciding on insurance premiums, as it greatly impacts potential healthcare expenses.\n",
    "\n",
    "Age is another critical factor. As people get older, charges tend to increase, reflecting the connection between age and healthcare needs. This highlights the role age plays in determining insurance costs, as older individuals often require more medical attention and therefore face higher charges.\n",
    "\n",
    "Looking at a broader view, regional differences also come into play. Charges vary by region, with the southeast region showing higher average charges. This suggests that regional factors like healthcare resources and lifestyle choices can impact insurance costs. Overall, these insights provide valuable information for insurance companies to create more tailored and equitable premium plans, considering the unique mix of factors that influence healthcare expenses."
   ]
  }
 ],
 "metadata": {
  "kernelspec": {
   "display_name": "Python 3",
   "language": "python",
   "name": "python3"
  },
  "language_info": {
   "codemirror_mode": {
    "name": "ipython",
    "version": 3
   },
   "file_extension": ".py",
   "mimetype": "text/x-python",
   "name": "python",
   "nbconvert_exporter": "python",
   "pygments_lexer": "ipython3",
   "version": "3.11.4"
  }
 },
 "nbformat": 4,
 "nbformat_minor": 4
}
